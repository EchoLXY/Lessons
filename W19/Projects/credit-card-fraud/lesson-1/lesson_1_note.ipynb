{
 "cells": [
  {
   "cell_type": "code",
   "execution_count": 9,
   "metadata": {
    "collapsed": true
   },
   "outputs": [],
   "source": []
  },
  {
   "cell_type": "code",
   "execution_count": 10,
   "metadata": {
    "collapsed": true
   },
   "outputs": [],
   "source": [
    "def estimate_coefficients(x, y):\n",
    "    n = \n",
    "    mean_x, mean_y = \n",
    "    \n",
    "    SS_xy = \n",
    "    SS_xx = \n",
    "  \n",
    "  \n",
    "    \n",
    "    b_1 = \n",
    "    b_0 = \n",
    "    \n",
    "    return (b_0,b_1)"
   ]
  },
  {
   "cell_type": "code",
   "execution_count": 13,
   "metadata": {
    "collapsed": true
   },
   "outputs": [],
   "source": [
    "def plot_regression_Line(x,y,b):\n",
    "    plt.scatter(x,y) \n",
    "\n",
    "\n",
    "    y_pred = \n",
    "    \n",
    "    plt.xlabel()\n",
    "    plt.ylabel()\n",
    "    \n",
    "    plt.plot()\n",
    "    \n",
    "    plt.show()\n",
    "\n",
    "\n",
    "    "
   ]
  },
  {
   "cell_type": "code",
   "execution_count": 14,
   "metadata": {},
   "outputs": [
    {
     "name": "stdout",
     "output_type": "stream",
     "text": [
      "Estimated coefficients:\n",
      "b_0 = -3.0208333333333712 \n",
      "b_1 = 132.36742424242425\n"
     ]
    },
    {
     "data": {
      "image/png": "[encoded data removed]",
      "text/plain": [
       "<Figure size 432x288 with 1 Axes>"
      ]
     },
     "metadata": {},
     "output_type": "display_data"
    }
   ],
   "source": [
    "x = np.array([1  ,2  ,3  ,4  ,5  ,6  ,7  ,8   ,9   ,10])\n",
    "y = np.array([300,350,400,500,600,750,900,1000,1200,1250])\n",
    "\n",
    "b = estimate_coefficients(x,y)\n",
    "\n",
    "print(\"Estimated coefficients:\\nb_0 = {} \\nb_1 = {}\".format(b[0], b[1]))\n",
    "\n",
    "\n",
    "plot_regression_Line(x,y,b)"
   ]
  },
  {
   "cell_type": "code",
   "execution_count": null,
   "metadata": {
    "collapsed": true
   },
   "outputs": [],
   "source": []
  }
 ],
 "metadata": {
  "kernelspec": {
   "display_name": "Python 3",
   "language": "python",
   "name": "python3"
  },
  "language_info": {
   "codemirror_mode": {
    "name": "ipython",
    "version": 3
   },
   "file_extension": ".py",
   "mimetype": "text/x-python",
   "name": "python",
   "nbconvert_exporter": "python",
   "pygments_lexer": "ipython3",
   "version": "3.6.3"
  }
 },
 "nbformat": 4,
 "nbformat_minor": 2
}
