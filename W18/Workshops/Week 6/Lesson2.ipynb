{
 "cells": [
  {
   "cell_type": "markdown",
   "metadata": {},
   "source": [
    "# First Dip Into Backend Web Dev"
   ]
  },
  {
   "cell_type": "markdown",
   "metadata": {},
   "source": [
    "The goal of this tutorial is to give you a first taste into how to set up a small webserver to serve simple web pages using Python and Flask."
   ]
  },
  {
   "cell_type": "markdown",
   "metadata": {},
   "source": [
    "## What is Flask?\n",
    "    \"Flask is a microframework for Python based on Werkzeug, Jinja 2 and good intentions. And before you ask: It's BSD licensed!\" ( http://flask.pocoo.org/ )\n",
    "\n",
    "Essentially, Flask is an unopionated Python server library. It tries to make the least number of decisions for the user, as opposed to another popular Python library, Django (which has its use cases as well!). Flask uses Werkzeug, another Python library, as its Web Server Gateway Interface; essentially the way it communicates with the web. It also uses Jinja 2 as its HTML templating engine, a way to programmatically generate HTML (the language of web pages!).\n",
    "\n",
    "Let's go ahead and install Flask by running either pip or conda:\n",
    "\n",
    "    > pip install flask\n",
    "    or\n",
    "    > conda install flask\n",
    "    \n",
    "You might need to use ```sudo``` before those commands to install as a super user."
   ]
  },
  {
   "cell_type": "markdown",
   "metadata": {},
   "source": [
    "## Hello World!"
   ]
  },
  {
   "cell_type": "markdown",
   "metadata": {},
   "source": [
    "Let's run the hello world of web dev!\n",
    "We want to set up our code to deliver the string \"Hello World\" to an user.\n",
    "\n",
    "Let's make an empty file called hello.py, and open it in your favorite code editor.\n",
    "Now add the following lines to this file:"
   ]
  },
  {
   "cell_type": "code",
   "execution_count": 1,
   "metadata": {
    "collapsed": false
   },
   "outputs": [
    {
     "name": "stderr",
     "output_type": "stream",
     "text": [
      " * Running on http://127.0.0.1:5000/ (Press CTRL+C to quit)\n",
      "127.0.0.1 - - [28/Jan/2018 20:55:08] \"GET / HTTP/1.1\" 200 -\n"
     ]
    }
   ],
   "source": [
    "from flask import Flask  # get the Flask object from the flask module\n",
    "\n",
    "app = Flask(__name__)    # Make an app using the current file\n",
    "\n",
    "@app.route('/')          # Decorate the hello function so that it runs when the user requests /\n",
    "def hello():\n",
    "    \"\"\"\n",
    "    This function just returns the string\n",
    "    \"Hello World\"\n",
    "    \"\"\"\n",
    "    return \"Hello World\"\n",
    "\n",
    "app.run(debug=False)"
   ]
  },
  {
   "cell_type": "markdown",
   "metadata": {},
   "source": [
    "Now save this file and run it from the command line. To do that open your favorite command line application. In Windows you can do that by Widnows key + r and then type cmd to open the command line. In Unix based systems ctrl+alt+t will open a terminal. Now we need to **C**hange **D**irectories to get to our file: we do this by typing \"> cd /path/to/file\"\n",
    "\n",
    "In Unix systems you can use the ls command to **L**i**s**t all the files in your current directory. In Windows you can use dir to list all the **Dir**ectories (the same thing essentially).\n",
    "\n",
    "After you have cd'ed to the right place, use the command \n",
    "\n",
    "    python hello.py\n",
    "    \n",
    "to run the script!   "
   ]
  },
  {
   "cell_type": "markdown",
   "metadata": {},
   "source": [
    "You should see a lot of stuff get printed to your terminal!\n",
    "\n",
    "At the very top you'll see something along the lines of:\n",
    "\n",
    "    * Running on http://127.0.0.1:5000/ (Press CTRL+C to quit)\n",
    "    \n",
    "The **IP** address (the numbers before the colon) might be different. This is saying that the server is running on the IP 127.0.0.1, which is sometimes called the local loop, or more commonly the localhost. This is saying that the server is restricted to just your machine.\n",
    "\n",
    "The number after the colon is the **port** that is attached to the server. The IP address is the address to get to your computer, the port is like the door you need to knock on to talk to our server, as opposed to other services, like ssh, or game traffic.\n",
    "\n",
    "Go ahead and put the ip address colon port number (127.0.0.1:5000) into a web browser\n",
    "\n",
    "You should see the words \"Hello World\" get printed to your browser! More interestingly you'll see some more lines get printed to your terminal. It'll say something along the lines of \"GET / HTTP/1.1 200\", which means that a GET request was issued to the server for address \"/\" and it was returned successfully (200). Here is a list of HTTP codes https://en.wikipedia.org/wiki/List_of_HTTP_status_codes !\n",
    "\n",
    "We can kill the server by either closing the terminal window (which means you'll have to cd to the file again) or by sending a keyboard interrupt (CTRL+C)"
   ]
  },
  {
   "cell_type": "markdown",
   "metadata": {},
   "source": [
    "## Play Around with the hello function!"
   ]
  },
  {
   "cell_type": "markdown",
   "metadata": {},
   "source": [
    "Try changing the output of the hello function. Any time you change the function you'll need to kill the server and restart it to propagte any changes through.\n",
    "\n",
    "  - Try changing the output to your name (or any other string)\n",
    "  - Try putting a newline (\\n) into the string to print onto multiple lines\n",
    "  - Add the following &lt;h1&gt; to the beginning of the string and &lt;/h1&gt; just before the end"
   ]
  },
  {
   "cell_type": "markdown",
   "metadata": {},
   "source": [
    "That last one is the header 1 HTML tag. The hello function has to return a valid HTML document (or string in this case). This is how we can use Flask to start building a web site. Let's keep that in mind."
   ]
  },
  {
   "cell_type": "markdown",
   "metadata": {},
   "source": [
    "## Let's add other views to our server"
   ]
  },
  {
   "cell_type": "markdown",
   "metadata": {},
   "source": [
    "Set the hello function to return some valid string. Now make a another function:"
   ]
  },
  {
   "cell_type": "code",
   "execution_count": 2,
   "metadata": {
    "collapsed": false
   },
   "outputs": [
    {
     "name": "stderr",
     "output_type": "stream",
     "text": [
      " * Running on http://127.0.0.1:5000/ (Press CTRL+C to quit)\n",
      "127.0.0.1 - - [28/Jan/2018 20:55:26] \"GET /myName HTTP/1.1\" 200 -\n"
     ]
    }
   ],
   "source": [
    "from flask import Flask  # get the Flask object from the flask module\n",
    "\n",
    "app = Flask(__name__)    # Make an app using the current file\n",
    "\n",
    "@app.route('/')          # Decorate the hello function so that it runs when the user requests /\n",
    "def hello():\n",
    "    \"\"\"\n",
    "    This function just returns the string\n",
    "    \"Hello World\"\n",
    "    \"\"\"\n",
    "    return \"Hello World\"\n",
    "\n",
    "@app.route('/myName')   # Decorate the name function to run when the user requests /myName\n",
    "def name():\n",
    "    return \"My name is Victor\"\n",
    "\n",
    "app.run(debug=False)"
   ]
  },
  {
   "cell_type": "markdown",
   "metadata": {},
   "source": [
    "Now run the server again and navigate to 127.0.0.1:5000/ and see that the hello world message still displays. Then navigate to 127.0.0.1:5000/myName and see that your name prints! So now we can multiple web pages!"
   ]
  },
  {
   "cell_type": "markdown",
   "metadata": {},
   "source": [
    "## The cool stuff (running code!)"
   ]
  },
  {
   "cell_type": "markdown",
   "metadata": {},
   "source": [
    "So we can serve the user arbitrary pages, but what if we want to get some input from the user to run some code for them? That's when we can turn to variable paths.\n",
    "\n",
    "In this context a variable path is any path where we can add in a variable that can be consumed by our function. Let's build the echo function:"
   ]
  },
  {
   "cell_type": "code",
   "execution_count": 3,
   "metadata": {
    "collapsed": false
   },
   "outputs": [
    {
     "name": "stderr",
     "output_type": "stream",
     "text": [
      " * Running on http://127.0.0.1:5000/ (Press CTRL+C to quit)\n",
      "127.0.0.1 - - [28/Jan/2018 20:55:47] \"GET /echo/Mas HTTP/1.1\" 200 -\n"
     ]
    }
   ],
   "source": [
    "from flask import Flask  # get the Flask object from the flask module\n",
    "\n",
    "app = Flask(__name__)    # Make an app using the current file\n",
    "\n",
    "@app.route('/')          # Decorate the hello function so that it runs when the user requests /\n",
    "def hello():\n",
    "    \"\"\"\n",
    "    This function just returns the string\n",
    "    \"Hello World\"\n",
    "    \"\"\"\n",
    "    return \"Hello World\"\n",
    "\n",
    "@app.route('/myName')   # Decorate the name function to run when the user requests /myName\n",
    "def name():\n",
    "    return \"My name is Victor\"\n",
    "\n",
    "@app.route('/echo/<msg>')\n",
    "def echo(msg):\n",
    "    return msg\n",
    "\n",
    "app.run(debug=False)"
   ]
  },
  {
   "cell_type": "markdown",
   "metadata": {},
   "source": [
    "Notice how we used the &lt; and &gt; to define the name of the variable, and then had the echo function consume that variable. This function will now print back anything that is after the second /\n",
    "Try it out!"
   ]
  },
  {
   "cell_type": "markdown",
   "metadata": {},
   "source": [
    "From here we can build more complicated functions. Copy the mystery function below and figure out what is does."
   ]
  },
  {
   "cell_type": "code",
   "execution_count": 4,
   "metadata": {
    "collapsed": false
   },
   "outputs": [
    {
     "name": "stderr",
     "output_type": "stream",
     "text": [
      " * Running on http://127.0.0.1:5000/ (Press CTRL+C to quit)\n",
      "127.0.0.1 - - [28/Jan/2018 20:56:06] \"GET /mystery/10 HTTP/1.1\" 200 -\n"
     ]
    }
   ],
   "source": [
    "from flask import Flask  # get the Flask object from the flask module\n",
    "\n",
    "app = Flask(__name__)    # Make an app using the current file\n",
    "\n",
    "@app.route('/')          # Decorate the hello function so that it runs when the user requests /\n",
    "def hello():\n",
    "    \"\"\"\n",
    "    This function just returns the string\n",
    "    \"Hello World\"\n",
    "    \"\"\"\n",
    "    return \"Hello World\"\n",
    "\n",
    "@app.route('/myName')   # Decorate the name function to run when the user requests /myName\n",
    "def name():\n",
    "    return \"My name is Victor\"\n",
    "\n",
    "@app.route('/echo/<msg>')\n",
    "def echo(msg):\n",
    "    return msg\n",
    "\n",
    "@app.route('/mystery/<int:var>')\n",
    "def mystery(var):\n",
    "    \"\"\"\n",
    "    Don't pick too big a number... otherwise interrupt the function!\n",
    "    \"\"\"\n",
    "    page=''\n",
    "    n, m = 0, 1\n",
    "    for i in range(var):\n",
    "        page = page + '<li>{}</li>\\n'.format(n)\n",
    "        m, n = n+m, m\n",
    "    return page\n",
    "\n",
    "app.run(debug=False)"
   ]
  },
  {
   "cell_type": "markdown",
   "metadata": {},
   "source": [
    "# How to keep extending these ideas"
   ]
  },
  {
   "cell_type": "markdown",
   "metadata": {},
   "source": [
    "Here's a couple of things you can do to keep extending on this."
   ]
  },
  {
   "cell_type": "markdown",
   "metadata": {},
   "source": [
    "## 1) HTML templating\n",
    "\n",
    "HTML is the first step to building a web page. It will allow you to organize your page into headers, paragraphs and lists. Take a look at flask's render_template function. It will allow you to build your HTML separetely from your back end logic code. You can alse use Jinga2's templating to programatically write HTML pages!"
   ]
  },
  {
   "cell_type": "markdown",
   "metadata": {},
   "source": [
    "## 2) Cascading Style Sheets?\n",
    "\n",
    "Look into CSS and try to implement it into a page. CSS is what we use to start making pretty web pages. You can change the background color of your pages, add borders, and just make your pages easier on the eyes."
   ]
  }
 ],
 "metadata": {
  "kernelspec": {
   "display_name": "Python 3",
   "language": "python",
   "name": "python3"
  },
  "language_info": {
   "codemirror_mode": {
    "name": "ipython",
    "version": 3
   },
   "file_extension": ".py",
   "mimetype": "text/x-python",
   "name": "python",
   "nbconvert_exporter": "python",
   "pygments_lexer": "ipython3",
   "version": "3.5.2"
  }
 },
 "nbformat": 4,
 "nbformat_minor": 2
}
